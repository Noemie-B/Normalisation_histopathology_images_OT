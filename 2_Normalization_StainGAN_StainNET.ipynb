{
 "cells": [
  {
   "cell_type": "code",
   "execution_count": 1,
   "id": "minor-simon",
   "metadata": {},
   "outputs": [],
   "source": [
    "import numpy as np\n",
    "import staintools\n",
    "import torch\n",
    "from models import StainNet, ResnetGenerator\n",
    "from PIL import Image \n",
    "import matplotlib.pyplot as plt\n",
    "%matplotlib inline\n",
    "import os\n",
    "import pickle\n",
    "import pandas as pd\n",
    "import tracemalloc\n",
    "import pickle\n",
    "import shutil\n",
    "import time\n",
    "import cv2"
   ]
  },
  {
   "cell_type": "code",
   "execution_count": 2,
   "id": "academic-bahrain",
   "metadata": {},
   "outputs": [
    {
     "data": {
      "text/plain": [
       "<All keys matched successfully>"
      ]
     },
     "execution_count": 2,
     "metadata": {},
     "output_type": "execute_result"
    }
   ],
   "source": [
    "#load  pretrained StainNet\n",
    "model_Net = StainNet().cuda()\n",
    "model_Net.load_state_dict(torch.load(\"checkpoints/aligned_cytopathology_dataset/StainNet-3x0_best_psnr_layer3_ch32.pth\"))"
   ]
  },
  {
   "cell_type": "code",
   "execution_count": 3,
   "id": "understood-california",
   "metadata": {},
   "outputs": [],
   "source": [
    "def norm(image):\n",
    "    image = np.array(image).astype(np.float32)\n",
    "    image = image.transpose((2, 0, 1))\n",
    "    image = ((image / 255) - 0.5) / 0.5\n",
    "    image=image[np.newaxis, ...]\n",
    "    image=torch.from_numpy(image)\n",
    "    return image\n",
    "\n",
    "def un_norm(image):\n",
    "    image = image.cpu().detach().numpy()[0]\n",
    "    image = ((image * 0.5 + 0.5) * 255).astype(np.uint8).transpose((1,2,0))\n",
    "    return image\n"
   ]
  },
  {
   "cell_type": "code",
   "execution_count": 4,
   "id": "certain-progressive",
   "metadata": {},
   "outputs": [
    {
     "data": {
      "text/plain": [
       "<All keys matched successfully>"
      ]
     },
     "execution_count": 4,
     "metadata": {},
     "output_type": "execute_result"
    }
   ],
   "source": [
    "#load  pretrained StainGAN\n",
    "model_GAN = ResnetGenerator(3, 3, ngf=64, norm_layer=torch.nn.InstanceNorm2d, n_blocks=9).cuda().cuda()\n",
    "model_GAN.load_state_dict(torch.load(\"checkpoints/aligned_cytopathology_dataset/latest_net_G_A.pth\"))"
   ]
  },
  {
   "cell_type": "markdown",
   "id": "532610b7",
   "metadata": {},
   "source": [
    "# For all patches"
   ]
  },
  {
   "cell_type": "code",
   "execution_count": 5,
   "id": "d15700f5",
   "metadata": {},
   "outputs": [],
   "source": [
    "PATH =  \"/media/user/Watson/PanNuke/normalisation_study/original/patches/\"\n",
    "#PATH = '/media/user/Ligue_RNA_2partie/PCNSL_2022/patches_tiatoolbox/'\n",
    "PATH_GAN =  \"/media/user/Watson/PanNuke/Normalisation/model_GAN/\"\n",
    "PATH_NET =  \"/media/user/Watson/PanNuke/Normalisation/model_NET/\""
   ]
  },
  {
   "cell_type": "code",
   "execution_count": 6,
   "id": "3248f814",
   "metadata": {},
   "outputs": [
    {
     "data": {
      "text/plain": [
       "<All keys matched successfully>"
      ]
     },
     "execution_count": 6,
     "metadata": {},
     "output_type": "execute_result"
    }
   ],
   "source": [
    "#load  pretrained StainGAN\n",
    "model_GAN = ResnetGenerator(3, 3, ngf=64, norm_layer=torch.nn.InstanceNorm2d, n_blocks=9).cuda().cuda()\n",
    "model_GAN.load_state_dict(torch.load(\"checkpoints/aligned_cytopathology_dataset/latest_net_G_A.pth\"))"
   ]
  },
  {
   "cell_type": "code",
   "execution_count": 7,
   "id": "f1e72af7",
   "metadata": {},
   "outputs": [
    {
     "data": {
      "text/plain": [
       "110"
      ]
     },
     "execution_count": 7,
     "metadata": {},
     "output_type": "execute_result"
    }
   ],
   "source": [
    "organs = ['Adrenal_gland', 'Bile-duct', 'Bladder', 'Breast', 'Cervix', 'Colon', 'Esophagus', 'HeadNeck', 'Kidney', 'Liver', 'Lung', 'Ovarian', 'Pancreatic', 'Prostate', 'Skin', 'Stomach', 'Testis', 'Thyroid', 'Uterus']"
   ]
  },
  {
   "cell_type": "code",
   "execution_count": 1,
   "id": "64517076",
   "metadata": {},
   "outputs": [],
   "source": [
    "for organ in organs :\n",
    "\n",
    "    if not os.path.exists(PATH_GAN+organ) :\n",
    "        os.mkdir(PATH_GAN+organ)\n",
    "        for i in os.listdir(PATH+organ):\n",
    "            img_source = Image.open(PATH+organ+'/'+i)\n",
    "            image_gan=model_GAN(norm(img_source).cuda())\n",
    "            image_gan=un_norm(image_gan)\n",
    "            cv2.imwrite(PATH_GAN+organ+'/'+i,image_gan)\n"
   ]
  },
  {
   "cell_type": "code",
   "execution_count": 2,
   "id": "9ae7c562",
   "metadata": {},
   "outputs": [],
   "source": [
    "for organ in organs :\n",
    "    if not os.path.exists(PATH_NET+organ) :\n",
    "        os.mkdir(PATH_NET+organ)\n",
    "        for i in os.listdir(PATH+organ):\n",
    "            img_source = Image.open(PATH+organ+'/'+i)\n",
    "            image_gan=model_Net(norm(img_source).cuda())\n",
    "            image_gan=un_norm(image_gan)\n",
    "            cv2.imwrite(PATH_NET+organ+'/'+i,image_gan)\n"
   ]
  },
  {
   "cell_type": "code",
   "execution_count": null,
   "id": "93ede71b",
   "metadata": {},
   "outputs": [],
   "source": []
  }
 ],
 "metadata": {
  "kernelspec": {
   "display_name": "Python 3 (ipykernel)",
   "language": "python",
   "name": "python3"
  },
  "language_info": {
   "codemirror_mode": {
    "name": "ipython",
    "version": 3
   },
   "file_extension": ".py",
   "mimetype": "text/x-python",
   "name": "python",
   "nbconvert_exporter": "python",
   "pygments_lexer": "ipython3",
   "version": "3.9.7"
  }
 },
 "nbformat": 4,
 "nbformat_minor": 5
}
