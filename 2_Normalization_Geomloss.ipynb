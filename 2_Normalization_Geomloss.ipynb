{
 "cells": [
  {
   "cell_type": "markdown",
   "id": "30d39d6e-f0e2-4672-8be0-3a21f54961d1",
   "metadata": {},
   "source": [
    "load_keops on terminal "
   ]
  },
  {
   "cell_type": "code",
   "execution_count": 1,
   "id": "92905a49",
   "metadata": {},
   "outputs": [],
   "source": [
    "import os.path\n",
    "import sys\n",
    "sys.path.append('/home/user/Code/keops/keopscore')\n",
    "sys.path.append('/home/user/Code/keops/pykeops')\n",
    "import os\n",
    "import pickle\n",
    "import pandas as pd\n",
    "import tracemalloc\n",
    "import pickle\n",
    "import shutil\n",
    "import time\n",
    "import cv2"
   ]
  },
  {
   "cell_type": "code",
   "execution_count": 2,
   "id": "860438c0",
   "metadata": {},
   "outputs": [
    {
     "name": "stdout",
     "output_type": "stream",
     "text": [
      "pyKeOps with torch bindings is working!\n"
     ]
    }
   ],
   "source": [
    "import pykeops\n",
    "pykeops.test_torch_bindings() "
   ]
  },
  {
   "cell_type": "code",
   "execution_count": 3,
   "id": "c0c5c29a",
   "metadata": {},
   "outputs": [],
   "source": [
    "import numpy as np\n",
    "import matplotlib.pyplot as plt\n",
    "from mpl_toolkits.mplot3d import Axes3D\n",
    "\n",
    "import time\n",
    "\n",
    "import torch\n",
    "from geomloss import SamplesLoss\n",
    "\n",
    "use_cuda = torch.cuda.is_available()\n",
    "dtype = torch.cuda.FloatTensor if use_cuda else torch.FloatTensor"
   ]
  },
  {
   "cell_type": "code",
   "execution_count": 4,
   "id": "46624965",
   "metadata": {
    "scrolled": true
   },
   "outputs": [
    {
     "data": {
      "text/plain": [
       "True"
      ]
     },
     "execution_count": 4,
     "metadata": {},
     "output_type": "execute_result"
    }
   ],
   "source": [
    "use_cuda"
   ]
  },
  {
   "cell_type": "code",
   "execution_count": 5,
   "id": "0a6eebcc",
   "metadata": {},
   "outputs": [],
   "source": [
    "import numpy as np\n",
    "import torch\n",
    "from random import choices\n",
    "import imageio\n",
    "from matplotlib import pyplot as plt\n",
    "\n",
    "\n",
    "def load_image(fname):\n",
    "    img = imageio.imread(fname)  # RGB\n",
    "    return img / 255.0  # Normalized to [0,1]\n",
    "\n",
    "\n",
    "def RGB_cloud(fname, sampling, dtype=torch.FloatTensor):\n",
    "    A = load_image(fname)\n",
    "    A = A[::sampling, ::sampling, :]\n",
    "    return torch.from_numpy(A).type(dtype).view(-1, 3)\n",
    "\n",
    "\n",
    "def display_cloud(ax, x):\n",
    "    x_ = x.detach().cpu().numpy()\n",
    "    ax.scatter(x_[:, 0], x_[:, 1], x_[:, 2], s=25 * 500 / len(x_), c=x_)\n",
    "\n",
    "\n",
    "def display_image(ax, x):\n",
    "    W = int(np.sqrt(len(x)))\n",
    "    x_ = x.view(W, W, 3).detach().cpu().numpy()\n",
    "    ax.imshow(x_)\n"
   ]
  },
  {
   "cell_type": "code",
   "execution_count": 9,
   "id": "66708e16",
   "metadata": {},
   "outputs": [],
   "source": [
    "import os, numpy, PIL\n",
    "from PIL import Image\n",
    "PATH = '/media/user/Watson/GBM_LGG/patches_select/'\n",
    "PATH_GeomLoss = '/media/user/Watson/GBM_LGG/Normalisation/'"
   ]
  },
  {
   "cell_type": "code",
   "execution_count": 10,
   "id": "f6480d4f",
   "metadata": {},
   "outputs": [
    {
     "data": {
      "text/plain": [
       "110"
      ]
     },
     "execution_count": 10,
     "metadata": {},
     "output_type": "execute_result"
    }
   ],
   "source": [
    "datasets = os.listdir(PATH)\n",
    "len(datasets)"
   ]
  },
  {
   "cell_type": "markdown",
   "id": "1fdfb58a",
   "metadata": {},
   "source": [
    "# Image ref (= mean of pixels)"
   ]
  },
  {
   "cell_type": "code",
   "execution_count": 1,
   "id": "49c4cd11",
   "metadata": {},
   "outputs": [],
   "source": [
    "for dataset in datasets :\n",
    "    print(dataset)\n",
    "    if not os.path.exists('/home/user/Code/Etude_normalisation/GBM_LGG/GemLoss_average_images/'+dataset+\"_Average.png\") :\n",
    "        # Access all PNG files in directory\n",
    "        allfiles=os.listdir(PATH+dataset)\n",
    "        print(len(allfiles))\n",
    "        imlist=[filename for filename in allfiles if  filename[-4:] in [\".jpg\"]]\n",
    "\n",
    "        # Assuming all images are the same size, get dimensions of first image\n",
    "        w,h=Image.open(PATH+dataset+'/'+imlist[0]).size\n",
    "        N=len(imlist)\n",
    "\n",
    "        # Create a numpy array of floats to store the average (assume RGB images)\n",
    "        arr=numpy.zeros((h,w,3),np.float64)\n",
    "\n",
    "        # Build up average pixel intensities, casting each image as an array of floats\n",
    "        for im in imlist:\n",
    "            imarr=numpy.array(Image.open(PATH+dataset+'/'+im),dtype=np.float64)\n",
    "            try :\n",
    "                arr=arr+imarr/N\n",
    "            except ValueError :\n",
    "                pass\n",
    "\n",
    "        # Round values in array and cast as 8-bit integer\n",
    "        arr=numpy.array(numpy.round(arr),dtype=numpy.uint8)\n",
    "\n",
    "        # Generate, save and preview final image\n",
    "        out=Image.fromarray(arr,mode=\"RGB\")\n",
    "        out.save('/home/user/Code/Etude_normalisation/GBM_LGG/GemLoss_average_images/'+dataset+\"_Average.png\")\n",
    "        out.show()\n",
    "    else:\n",
    "        print('already exists')"
   ]
  },
  {
   "cell_type": "code",
   "execution_count": 12,
   "id": "ac230ae3-f223-4d66-8981-a230e9af427b",
   "metadata": {},
   "outputs": [
    {
     "data": {
      "text/plain": [
       "111"
      ]
     },
     "execution_count": 12,
     "metadata": {},
     "output_type": "execute_result"
    }
   ],
   "source": [
    "liste_average = []\n",
    "for i in os.listdir('/home/user/Code/Etude_normalisation/GBM_LGG/GemLoss_average_images'):\n",
    "    if i[-11:]=='Average.png' :\n",
    "        liste_average.append(i)\n",
    "len(liste_average)"
   ]
  },
  {
   "cell_type": "code",
   "execution_count": 2,
   "id": "ad8ae25b-6fca-4146-8e7d-ee65ad55d600",
   "metadata": {},
   "outputs": [],
   "source": [
    "for im in liste_average:\n",
    "    imarr=numpy.array(Image.open('/home/user/Code/Etude_normalisation/GBM_LGG/GemLoss_average_images/'+im),dtype=np.float64)\n",
    "    arr=arr+imarr/N\n",
    "arr=numpy.array(numpy.round(arr),dtype=numpy.uint8)\n",
    "\n",
    "# Generate, save and preview final image\n",
    "out=Image.fromarray(arr,mode=\"RGB\")\n",
    "out.save(\"/home/user/Code/Etude_normalisation/GBM_LGG/GemLoss_average_images/TCGA_LGG_GBM_Average.png\")\n",
    "out.show()"
   ]
  },
  {
   "cell_type": "markdown",
   "id": "590f51dd",
   "metadata": {},
   "source": [
    "# GeomLoss"
   ]
  },
  {
   "cell_type": "code",
   "execution_count": 17,
   "id": "5b0f9b35-c93c-416a-89aa-e5dd327d6304",
   "metadata": {},
   "outputs": [],
   "source": [
    "def color_transfer(X, Y, loss, lr=1):\n",
    "    \"\"\"Flows along the gradient of the loss function.\n",
    "\n",
    "    Parameters:\n",
    "        loss ((x_i,y_j) -> torch float number):\n",
    "            Real-valued loss function.\n",
    "        lr (float, default = 1):\n",
    "            Learning rate, i.e. time step.\n",
    "    \"\"\"\n",
    "\n",
    "    # Parameters for the gradient descent\n",
    "    Nsteps = 11\n",
    "    display_its = [1, 10]\n",
    "\n",
    "    # Make sure that we won't modify the reference samples\n",
    "    x_i, y_j = X.clone(), Y.clone()\n",
    "\n",
    "    # We're going to perform gradient descent on Loss(α, β)\n",
    "    # wrt. the positions x_i of the diracs masses that make up α:\n",
    "    x_i.requires_grad = True\n",
    "\n",
    "    t_0 = time.time()\n",
    "\n",
    "    # plt.figure(figsize=(12, 12))\n",
    "    # k = 3\n",
    "    # ax = plt.subplot(2, 2, 1)\n",
    "    # display_image(ax, x_i)\n",
    "    # ax.set_title(\"Source image\")\n",
    "    # plt.xticks([], [])\n",
    "    # plt.yticks([], [])\n",
    "    # ax = plt.subplot(2, 2, 2)\n",
    "    # display_image(ax, y_j)\n",
    "    # ax.set_title(\"Target image\")\n",
    "    # plt.xticks([], [])\n",
    "    # plt.yticks([], [])\n",
    "\n",
    "    for i in range(Nsteps):  # Euler scheme ===============\n",
    "        # Compute cost and gradient\n",
    "        L_αβ = loss(x_i, y_j)\n",
    "        [g] = torch.autograd.grad(L_αβ, [x_i])\n",
    "\n",
    "        # if i in display_its:  # display\n",
    "        #     ax = plt.subplot(2, 2, k)\n",
    "        #     display_image(ax, x_i)\n",
    "        #     ax.set_title(\"it = {}\".format(i))\n",
    "        #     k = k + 1\n",
    "        #     plt.xticks([], [])\n",
    "        #     plt.yticks([], [])\n",
    "\n",
    "        # in-place modification of the tensor's values\n",
    "        x_i.data -= lr * len(x_i) * g\n",
    "    return x_i\n",
    "    # plt.title(\n",
    "    #     \"it = {}, elapsed time: {:.2f}s/it\".format(i, (time.time() - t_0) / Nsteps)\n",
    "    # )\n",
    "    # plt.tight_layout()"
   ]
  },
  {
   "cell_type": "code",
   "execution_count": 18,
   "id": "a07fcc7f-b263-4292-a3bb-73b85636346a",
   "metadata": {},
   "outputs": [],
   "source": [
    "methods = ['GeomLoss_energy', 'GeomLoss_sinkhorn', 'GeomLoss_laplacian', 'GeomLoss_gaussian']"
   ]
  },
  {
   "cell_type": "code",
   "execution_count": 3,
   "id": "17623346-c9da-434c-9f46-eb31c9713a5b",
   "metadata": {},
   "outputs": [],
   "source": [
    "organs = ['Adrenal_gland', 'Bile-duct', 'Bladder', 'Breast', 'Cervix', 'Colon', 'Esophagus', 'HeadNeck', 'Kidney', 'Liver', 'Lung', 'Ovarian', 'Pancreatic', 'Prostate', 'Skin', 'Stomach', 'Testis', 'Thyroid', 'Uterus']"
   ]
  },
  {
   "cell_type": "code",
   "execution_count": 21,
   "id": "de9ac72f-87c6-40c2-94e6-2959b08de01e",
   "metadata": {},
   "outputs": [],
   "source": [
    "df = pd.DataFrame()"
   ]
  },
  {
   "cell_type": "code",
   "execution_count": 4,
   "id": "608312a9-e242-4f42-b18d-3e08a4db5ba5",
   "metadata": {
    "scrolled": true
   },
   "outputs": [],
   "source": [
    "PATH =  \"/media/user/Watson/PanNuke/normalisation_study/original/patches/\"/\"\n",
    "\n",
    "\n",
    "for method in [ 'GeomLoss_sinkhorn_target','GeomLoss_sinkhorn_gradient', 'GeomLoss_sinkhorn_Average']: \n",
    "    print('-----', method, '----------')\n",
    "    if not os.path.exists(\"/media/user/Watson/PanNuke/normalisation/\"+method) :\n",
    "        os.mkdir(\"/media/user/Watson/PanNuke/normalisation/\"+method)\n",
    "    PATH_method =  \"/media/user/Watson/PanNuke/normalisation/\"+method+\"/patches/\"\n",
    "    if not os.path.exists(PATH_method) :\n",
    "        os.mkdir(PATH_method)\n",
    "    for organ in organs :\n",
    "\n",
    "        if not os.path.exists(PATH_method+organ) :\n",
    "            os.mkdir(PATH_method+organ)\n",
    "        for i in os.listdir(PATH+organ):\n",
    "            X = RGB_cloud(PATH +organ+'/'+i, sampling, dtype)\n",
    "            if method == 'GeomLoss_sinkhorn_target' :\n",
    "                Y = RGB_cloud(\"/home/user/Code/Etude_normalisation/GBM_LGG/image_target.png\", sampling, dtype)\n",
    "                x_i = color_transfer(X, Y, SamplesLoss('sinkhorn', blur=0.9, reach=0.4))\n",
    "            elif method == 'GeomLoss_sinkhorn_gradient' :\n",
    "                Y = RGB_cloud(\"/home/user/Code/Etude_normalisation/PanNuke/Gradient_PanNuke/PanNuke_gradient.png\", sampling, dtype)\n",
    "                x_i = color_transfer(X, Y, SamplesLoss('sinkhorn', blur=0.9, reach=0.4))\n",
    "            elif method == 'GeomLoss_sinkhorn_Average' :\n",
    "                Y = RGB_cloud(\"/home/user/Code/Etude_normalisation/PanNuke/Average_PanNuke/PanNuke_Average.png\", sampling, dtype)\n",
    "                x_i = color_transfer(X, Y, SamplesLoss('sinkhorn', blur=0.9, reach=0.4))\n",
    "            W = int(np.sqrt(len(x_i)))\n",
    "            try : \n",
    "                x_ = x_i.view(W, W, 3).detach().cpu().numpy()\n",
    "            except RuntimeError:\n",
    "                print('ok')\n",
    "                continue\n",
    "            x_ = x_[:,:,::-1]*255\n",
    "            cv2.imwrite(PATH_method+organ+\"/\"+i, x_)\n",
    "\n",
    "    \n",
    "\n"
   ]
  }
 ],
 "metadata": {
  "kernelspec": {
   "display_name": "Python 3 (ipykernel)",
   "language": "python",
   "name": "python3"
  },
  "language_info": {
   "codemirror_mode": {
    "name": "ipython",
    "version": 3
   },
   "file_extension": ".py",
   "mimetype": "text/x-python",
   "name": "python",
   "nbconvert_exporter": "python",
   "pygments_lexer": "ipython3",
   "version": "3.9.7"
  }
 },
 "nbformat": 4,
 "nbformat_minor": 5
}
