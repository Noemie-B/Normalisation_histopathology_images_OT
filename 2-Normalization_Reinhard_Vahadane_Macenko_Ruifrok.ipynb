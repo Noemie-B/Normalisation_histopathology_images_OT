{
 "cells": [
  {
   "cell_type": "markdown",
   "metadata": {},
   "source": [
    "# Stain Normalization\n",
    "Click to open in: [[GitHub](https://github.com/TissueImageAnalytics/tiatoolbox/tree/master/examples/02-stain-normalization.ipynb)][[Colab](https://colab.research.google.com/github/TissueImageAnalytics/tiatoolbox/blob/master/examples/02-stain-normalization.ipynb)]"
   ]
  },
  {
   "cell_type": "code",
   "execution_count": 1,
   "metadata": {
    "id": "N97OxSFkEi5g"
   },
   "outputs": [
    {
     "name": "stderr",
     "output_type": "stream",
     "text": [
      "|2024-07-14|12:26:57.533| [INFO] Note: NumExpr detected 16 cores but \"NUMEXPR_MAX_THREADS\" not set, so enforcing safe limit of 8.\n",
      "|2024-07-14|12:26:57.533| [INFO] NumExpr defaulting to 8 threads.\n"
     ]
    }
   ],
   "source": [
    "from tiatoolbox import utils\n",
    "from tiatoolbox.wsicore.slide_info import slide_info\n",
    "from tiatoolbox.wsicore import wsireader\n",
    "from tiatoolbox import data\n",
    "import requests\n",
    "import os\n",
    "import numpy as np\n",
    "import matplotlib.pyplot as plt\n",
    "import matplotlib as mpl\n",
    "import matplotlib.image as mpimg\n",
    "mpl.rcParams[\"figure.dpi\"] = 150  # for high resolution figure in notebook\n",
    "\n",
    "from tiatoolbox.tools import stainnorm\n",
    "from PIL import Image \n",
    "import skimage.color\n",
    "import time\n",
    "import pandas as pd\n",
    "import tracemalloc\n",
    "import pickle\n",
    "import shutil"
   ]
  },
  {
   "cell_type": "markdown",
   "metadata": {},
   "source": [
    "# For all patches"
   ]
  },
  {
   "cell_type": "code",
   "execution_count": 2,
   "metadata": {},
   "outputs": [],
   "source": [
    "methods = ['Vahadane', 'Macenko', 'Reinhard', 'Ruifrok']"
   ]
  },
  {
   "cell_type": "code",
   "execution_count": 2,
   "metadata": {},
   "outputs": [],
   "source": [
    "stain_matrix = skimage.color.fgx_from_rgb[:2]\n",
    "custom_normalizer = stainnorm.CustomNormalizer(stain_matrix)\n",
    "target_image = data.stain_norm_target()\n",
    "PATH =  \"/media/user/Watson/PanNuke/normalisation_study/original/patches/\"\n",
    "\n",
    "\n",
    "organs = ['Adrenal_gland', 'Bile-duct', 'Bladder', 'Breast', 'Cervix', 'Colon', 'Esophagus', 'HeadNeck', 'Kidney', 'Liver', 'Lung', 'Ovarian', 'Pancreatic', 'Prostate', 'Skin', 'Stomach', 'Testis', 'Thyroid', 'Uterus']\n",
    "for method in methods :\n",
    "    print('-----', method, '----------')\n",
    "\n",
    "\n",
    "    PATH_method =  \"/media/user/Watson/PanNuke/normalisation_fraction/\"+method+\"/patches/\"\n",
    "    if not os.path.exists(PATH_method) :\n",
    "        os.mkdir(PATH_method)\n",
    "    for organ in organs :\n",
    "        print(organ)\n",
    "        if not os.path.exists(PATH_method+organ) :\n",
    "            os.mkdir(PATH_method+organ)\n",
    "            print(\"dossier créé\", organ)\n",
    "        for i in os.listdir(PATH+organ):\n",
    "            sample = plt.imread(PATH+organ+'/'+i)\n",
    "            stain_normalizer = stainnorm.get_normalizer(method)\n",
    "            stain_normalizer.fit(target_image)\n",
    "            normed_sample = stain_normalizer.transform(sample.copy())\n",
    "            im = Image.fromarray(normed_sample)\n",
    "            im.save(PATH_method+organ+\"/\"+i) \n",
    "\n",
    "\n"
   ]
  }
 ],
 "metadata": {
  "celltoolbar": "Edit Metadata",
  "colab": {
   "collapsed_sections": [],
   "name": "02-stain-normalization.ipynb",
   "provenance": [],
   "toc_visible": true
  },
  "kernelspec": {
   "display_name": "Python 3 (ipykernel)",
   "language": "python",
   "name": "python3"
  },
  "language_info": {
   "codemirror_mode": {
    "name": "ipython",
    "version": 3
   },
   "file_extension": ".py",
   "mimetype": "text/x-python",
   "name": "python",
   "nbconvert_exporter": "python",
   "pygments_lexer": "ipython3",
   "version": "3.9.7"
  }
 },
 "nbformat": 4,
 "nbformat_minor": 2
}
